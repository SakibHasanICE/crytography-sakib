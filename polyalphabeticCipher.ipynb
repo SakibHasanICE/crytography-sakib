{
 "cells": [
  {
   "cell_type": "code",
   "execution_count": 1,
   "id": "37625e3c",
   "metadata": {},
   "outputs": [
    {
     "name": "stdout",
     "output_type": "stream",
     "text": [
      "Enter the plaintext: hello\n",
      "Enter the keyword: pust\n",
      "Ciphertext: WYDED\n",
      "Original/Decrypted Text: HELLO\n"
     ]
    }
   ],
   "source": [
    "# This function generates the\n",
    "# Vigenere Cipher\n",
    "# key in a cyclic manner until \n",
    "# its length isn't equal to \n",
    "# the length of the original text\n",
    "def generateKey(string, key):\n",
    "    key = list(key)\n",
    "    if len(string) == len(key):\n",
    "        return(key)\n",
    "    else:\n",
    "        for i in range(len(string) - len(key)):\n",
    "            key.append(key[i % len(key)])\n",
    "    return(\"\".join(key))\n",
    "\n",
    "# This function returns the \n",
    "# encrypted text generated \n",
    "# with the help of the key\n",
    "def cipherText(string, key):\n",
    "    cipher_text = []\n",
    "    for i in range(len(string)):\n",
    "        x = (ord(string[i]) + ord(key[i])) % 26\n",
    "        x += ord('A')\n",
    "        cipher_text.append(chr(x))\n",
    "    return(\"\".join(cipher_text))\n",
    "\n",
    "# This function decrypts the \n",
    "# encrypted text and returns \n",
    "# the original text\n",
    "def originalText(cipher_text, key):\n",
    "    orig_text = []\n",
    "    for i in range(len(cipher_text)):\n",
    "        x = (ord(cipher_text[i]) - ord(key[i]) + 26) % 26\n",
    "        x += ord('A')\n",
    "        orig_text.append(chr(x))\n",
    "    return(\"\".join(orig_text))\n",
    "\n",
    "# Driver code\n",
    "if __name__ == \"__main__\":\n",
    "    string = input(\"Enter the plaintext: \").upper()\n",
    "    keyword = input(\"Enter the keyword: \").upper()\n",
    "    \n",
    "    key = generateKey(string, keyword)\n",
    "    cipher_text = cipherText(string, key)\n",
    "    \n",
    "    print(\"Ciphertext:\", cipher_text)\n",
    "    print(\"Original/Decrypted Text:\", originalText(cipher_text, key))\n"
   ]
  },
  {
   "cell_type": "code",
   "execution_count": null,
   "id": "22fc8507",
   "metadata": {},
   "outputs": [],
   "source": []
  }
 ],
 "metadata": {
  "kernelspec": {
   "display_name": "Python 3 (ipykernel)",
   "language": "python",
   "name": "python3"
  },
  "language_info": {
   "codemirror_mode": {
    "name": "ipython",
    "version": 3
   },
   "file_extension": ".py",
   "mimetype": "text/x-python",
   "name": "python",
   "nbconvert_exporter": "python",
   "pygments_lexer": "ipython3",
   "version": "3.10.9"
  }
 },
 "nbformat": 4,
 "nbformat_minor": 5
}
