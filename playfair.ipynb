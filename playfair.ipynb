{
 "cells": [
  {
   "cell_type": "code",
   "execution_count": 4,
   "id": "9359945f",
   "metadata": {},
   "outputs": [
    {
     "name": "stdout",
     "output_type": "stream",
     "text": [
      "xcctagboozythizy\n",
      "wearehappytodayx\n"
     ]
    }
   ],
   "source": [
    "def playfair_cipher(plaintext, key, mode):\n",
    "    # Define the alphabet, excluding 'j'\n",
    "    alphabet = 'abcdefghiklmnopqrstuvwxyz'\n",
    "    # Remove whitespace and 'j' from the key and convert to lowercase\n",
    "    key = key.lower().replace(' ', '').replace('j', 'i')\n",
    "    # Construct the key square\n",
    "    key_square = ''\n",
    "    for letter in key + alphabet:\n",
    "        if letter not in key_square:\n",
    "            key_square += letter\n",
    "    # Split the plaintext into digraphs, padding with 'x' if necessary\n",
    "    plaintext = plaintext.lower().replace(' ', '').replace('j', 'i')\n",
    "    if len(plaintext) % 2 == 1:\n",
    "        plaintext += 'x'\n",
    "    digraphs = [plaintext[i:i+2] for i in range(0, len(plaintext), 2)]\n",
    "    # Define the encryption/decryption functions\n",
    "    def encrypt(digraph):\n",
    "        a, b = digraph\n",
    "        row_a, col_a = divmod(key_square.index(a), 5)\n",
    "        row_b, col_b = divmod(key_square.index(b), 5)\n",
    "        if row_a == row_b:\n",
    "            col_a = (col_a + 1) % 5\n",
    "            col_b = (col_b + 1) % 5\n",
    "        elif col_a == col_b:\n",
    "            row_a = (row_a + 1) % 5\n",
    "            row_b = (row_b + 1) % 5\n",
    "        else:\n",
    "            col_a, col_b = col_b, col_a\n",
    "        return key_square[row_a*5+col_a] + key_square[row_b*5+col_b]\n",
    "\n",
    "    def decrypt(digraph):\n",
    "        a, b = digraph\n",
    "        row_a, col_a = divmod(key_square.index(a), 5)\n",
    "        row_b, col_b = divmod(key_square.index(b), 5)\n",
    "        if row_a == row_b:\n",
    "            col_a = (col_a - 1) % 5\n",
    "            col_b = (col_b - 1) % 5\n",
    "        elif col_a == col_b:\n",
    "            row_a = (row_a - 1) % 5\n",
    "            row_b = (row_b - 1) % 5\n",
    "        else:\n",
    "            col_a, col_b = col_b, col_a\n",
    "        return key_square[row_a*5+col_a] + key_square[row_b*5+col_b]\n",
    "    # Encrypt or decrypt the plaintext\n",
    "    result = ''\n",
    "    for digraph in digraphs:\n",
    "        if mode == 'encrypt':\n",
    "            result += encrypt(digraph)\n",
    "        elif mode == 'decrypt':\n",
    "            result += decrypt(digraph)\n",
    "\n",
    "    # Return the result\n",
    "    return result\n",
    "\n",
    "# Example usage\n",
    "plaintext = 'we are happy today'\n",
    "key = 'ICE'\n",
    "ciphertext = playfair_cipher(plaintext, key, 'encrypt')\n",
    "print(ciphertext)  # outputs: \"iisggymlgmsyjqu\"\n",
    "decrypted_text = playfair_cipher(ciphertext, key, 'decrypt')\n",
    "print(decrypted_text)  # (Note: 'x' is added as padding)"
   ]
  },
  {
   "cell_type": "code",
   "execution_count": null,
   "id": "9c533df9",
   "metadata": {},
   "outputs": [],
   "source": []
  },
  {
   "cell_type": "code",
   "execution_count": null,
   "id": "3b5c7b3c",
   "metadata": {},
   "outputs": [],
   "source": []
  }
 ],
 "metadata": {
  "kernelspec": {
   "display_name": "Python 3 (ipykernel)",
   "language": "python",
   "name": "python3"
  },
  "language_info": {
   "codemirror_mode": {
    "name": "ipython",
    "version": 3
   },
   "file_extension": ".py",
   "mimetype": "text/x-python",
   "name": "python",
   "nbconvert_exporter": "python",
   "pygments_lexer": "ipython3",
   "version": "3.10.9"
  }
 },
 "nbformat": 4,
 "nbformat_minor": 5
}
