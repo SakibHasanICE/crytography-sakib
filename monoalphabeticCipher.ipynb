{
 "cells": [
  {
   "cell_type": "code",
   "execution_count": 2,
   "id": "c808a86b",
   "metadata": {},
   "outputs": [
    {
     "name": "stdout",
     "output_type": "stream",
     "text": [
      "Plain text: This is sakib\n",
      "Encrypted message: ZIOL OL LQAOW\n",
      "Decrypted message: this is sakib\n"
     ]
    }
   ],
   "source": [
    "class MonoalphabeticCipher:\n",
    "    def __init__(self):\n",
    "        self.normal_char = ['a', 'b', 'c', 'd', 'e', 'f', 'g', 'h', 'i',\n",
    "                            'j', 'k', 'l', 'm', 'n', 'o', 'p', 'q', 'r',\n",
    "                            's', 't', 'u', 'v', 'w', 'x', 'y', 'z']\n",
    "\n",
    "        self.coded_char = ['Q', 'W', 'E', 'R', 'T', 'Y', 'U', 'I', 'O',\n",
    "                           'P', 'A', 'S', 'D', 'F', 'G', 'H', 'J', 'K',\n",
    "                           'L', 'Z', 'X', 'C', 'V', 'B', 'N', 'M']\n",
    "\n",
    "    def string_encryption(self, s):\n",
    "        encrypted_string = \"\"\n",
    "        for char in s:\n",
    "            for i in range(26):\n",
    "                if char == self.normal_char[i]:\n",
    "                    encrypted_string += self.coded_char[i]\n",
    "                    break\n",
    "                elif char < 'a' or char > 'z':\n",
    "                    encrypted_string += char\n",
    "                    break\n",
    "        return encrypted_string\n",
    "\n",
    "    def string_decryption(self, s):\n",
    "        decrypted_string = \"\"\n",
    "        for char in s:\n",
    "            for i in range(26):\n",
    "                if char == self.coded_char[i]:\n",
    "                    decrypted_string += self.normal_char[i]\n",
    "                    break\n",
    "                elif char < 'A' or char > 'Z':\n",
    "                    decrypted_string += char\n",
    "                    break\n",
    "        return decrypted_string\n",
    "\n",
    "\n",
    "def main():\n",
    "    cipher = MonoalphabeticCipher()\n",
    "    plain_text = \"This is python sakib\"\n",
    "\n",
    "    print(\"Plain text:\", plain_text)\n",
    "\n",
    "    # Changing the whole string to lowercase\n",
    "    encrypted_message = cipher.string_encryption(plain_text.lower())\n",
    "    print(\"Encrypted message:\", encrypted_message)\n",
    "\n",
    "    decrypted_message = cipher.string_decryption(encrypted_message)\n",
    "    print(\"Decrypted message:\", decrypted_message)\n",
    "\n",
    "\n",
    "if __name__ == \"__main__\":\n",
    "    main()\n"
   ]
  },
  {
   "cell_type": "code",
   "execution_count": null,
   "id": "013a863b",
   "metadata": {},
   "outputs": [],
   "source": []
  }
 ],
 "metadata": {
  "kernelspec": {
   "display_name": "Python 3 (ipykernel)",
   "language": "python",
   "name": "python3"
  },
  "language_info": {
   "codemirror_mode": {
    "name": "ipython",
    "version": 3
   },
   "file_extension": ".py",
   "mimetype": "text/x-python",
   "name": "python",
   "nbconvert_exporter": "python",
   "pygments_lexer": "ipython3",
   "version": "3.10.9"
  }
 },
 "nbformat": 4,
 "nbformat_minor": 5
}
