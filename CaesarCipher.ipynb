{
 "cells": [
  {
   "cell_type": "code",
   "execution_count": null,
   "id": "9ec446c1",
   "metadata": {},
   "outputs": [],
   "source": [
    "def caesar_encrypt(plaintext, shift):\n",
    "    encrypted_text = \"\"\n",
    "    for char in plaintext:\n",
    "        if char.isalpha():\n",
    "            if char.islower():\n",
    "                encrypted_text += chr((ord(char) + shift - ord('a')) % 26 + ord('a'))\n",
    "            else:\n",
    "                encrypted_text += chr((ord(char) + shift - ord('A')) % 26 + ord('A'))\n",
    "        else:\n",
    "            encrypted_text += char\n",
    "    return encrypted_text\n",
    "\n",
    "def caesar_decrypt(ciphertext, shift):\n",
    "    decrypted_text = \"\"\n",
    "    for char in ciphertext:\n",
    "        if char.isalpha():\n",
    "            if char.islower():\n",
    "                decrypted_text += chr((ord(char) - shift - ord('a')) % 26 + ord('a'))\n",
    "            else:\n",
    "                decrypted_text += chr((ord(char) - shift - ord('A')) % 26 + ord('A'))\n",
    "        else:\n",
    "            decrypted_text += char\n",
    "    return decrypted_text\n",
    "\n",
    "# Get user input for plaintext and shift\n",
    "plaintext = input(\"Enter the plaintext: \")\n",
    "shift = int(input(\"Enter the shift value: \"))\n",
    "\n",
    "# Encrypt the plaintext\n",
    "ciphertext = caesar_encrypt(plaintext, shift)\n",
    "print(f\"Caesar Cipher Encryption: {ciphertext}\")\n",
    "\n",
    "# Decrypt the ciphertext\n",
    "decrypted_text = caesar_decrypt(ciphertext, shift)\n",
    "print(f\"Caesar Cipher Decryption: {decrypted_text}\")\n"
   ]
  },
  {
   "cell_type": "code",
   "execution_count": null,
   "id": "5a831c87",
   "metadata": {},
   "outputs": [],
   "source": []
  }
 ],
 "metadata": {
  "kernelspec": {
   "display_name": "Python 3 (ipykernel)",
   "language": "python",
   "name": "python3"
  },
  "language_info": {
   "codemirror_mode": {
    "name": "ipython",
    "version": 3
   },
   "file_extension": ".py",
   "mimetype": "text/x-python",
   "name": "python",
   "nbconvert_exporter": "python",
   "pygments_lexer": "ipython3",
   "version": "3.10.9"
  }
 },
 "nbformat": 4,
 "nbformat_minor": 5
}
