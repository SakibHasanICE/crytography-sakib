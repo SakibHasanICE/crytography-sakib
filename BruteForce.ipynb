{
 "cells": [
  {
   "cell_type": "code",
   "execution_count": 2,
   "id": "57ebc580",
   "metadata": {},
   "outputs": [
    {
     "name": "stdout",
     "output_type": "stream",
     "text": [
      "Brute Force Decryption for Caesar Cipher:\n",
      "Shift 0: khoor\n",
      "Shift 1: jgnnq\n",
      "Shift 2: ifmmp\n",
      "Shift 3: hello\n",
      "Shift 4: gdkkn\n",
      "Shift 5: fcjjm\n",
      "Shift 6: ebiil\n",
      "Shift 7: dahhk\n",
      "Shift 8: czggj\n",
      "Shift 9: byffi\n",
      "Shift 10: axeeh\n",
      "Shift 11: zwddg\n",
      "Shift 12: yvccf\n",
      "Shift 13: xubbe\n",
      "Shift 14: wtaad\n",
      "Shift 15: vszzc\n",
      "Shift 16: uryyb\n",
      "Shift 17: tqxxa\n",
      "Shift 18: spwwz\n",
      "Shift 19: rovvy\n",
      "Shift 20: qnuux\n",
      "Shift 21: pmttw\n",
      "Shift 22: olssv\n",
      "Shift 23: nkrru\n",
      "Shift 24: mjqqt\n",
      "Shift 25: lipps\n"
     ]
    }
   ],
   "source": [
    "def brute_force_decrypt(ciphertext):\n",
    "    for shift in range(26):\n",
    "        decrypted_text = caesar_decrypt(ciphertext, shift)\n",
    "        print(f\"Shift {shift}: {decrypted_text}\")\n",
    "\n",
    "def caesar_decrypt(ciphertext, shift):\n",
    "    decrypted_text = \"\"\n",
    "    for char in ciphertext:\n",
    "        if char.isalpha():\n",
    "            if char.islower():\n",
    "                decrypted_text += chr((ord(char) - shift - ord('a')) % 26 + ord('a'))\n",
    "            else:\n",
    "                decrypted_text += chr((ord(char) - shift - ord('A')) % 26 + ord('A'))\n",
    "        else:\n",
    "            decrypted_text += char\n",
    "    return decrypted_text\n",
    "\n",
    "ciphertext = \"khoor\"\n",
    "print(\"Brute Force Decryption for Caesar Cipher:\")\n",
    "brute_force_decrypt(ciphertext)\n"
   ]
  },
  {
   "cell_type": "code",
   "execution_count": null,
   "id": "763e2574",
   "metadata": {},
   "outputs": [],
   "source": []
  }
 ],
 "metadata": {
  "kernelspec": {
   "display_name": "Python 3 (ipykernel)",
   "language": "python",
   "name": "python3"
  },
  "language_info": {
   "codemirror_mode": {
    "name": "ipython",
    "version": 3
   },
   "file_extension": ".py",
   "mimetype": "text/x-python",
   "name": "python",
   "nbconvert_exporter": "python",
   "pygments_lexer": "ipython3",
   "version": "3.10.9"
  }
 },
 "nbformat": 4,
 "nbformat_minor": 5
}
